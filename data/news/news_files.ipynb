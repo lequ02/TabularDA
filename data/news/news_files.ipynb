{
 "cells": [
  {
   "cell_type": "code",
   "execution_count": 12,
   "metadata": {},
   "outputs": [
    {
     "name": "stdout",
     "output_type": "stream",
     "text": [
      "Columns do not match.\n",
      "Columns in onehot_news_sdv_100k but not in onehot_news_sdv_categorical_100k: {' shares'}\n",
      "Columns in onehot_news_sdv_categorical_100k but not in onehot_news_sdv_100k: {'shares'}\n",
      "Columns in onehot_news_sdv_100k but not in onehot_news_sdv_gaussian_100k: {' shares'}\n",
      "Columns in onehot_news_sdv_gaussian_100k but not in onehot_news_sdv_100k: {'shares'}\n",
      "Columns in onehot_news_sdv_categorical_100k but not in onehot_news_sdv_gaussian_100k: set()\n",
      "Columns in onehot_news_sdv_gaussian_100k but not in onehot_news_sdv_categorical_100k: set()\n"
     ]
    }
   ],
   "source": [
    "import pandas as pd\n",
    "\n",
    "# Load the CSV files\n",
    "onehot_news_sdv_100k = pd.read_csv(\"onehot_news_sdv_100k.csv\")\n",
    "onehot_news_sdv_categorical_100k = pd.read_csv('onehot_news_sdv_categorical_100k.csv')\n",
    "onehot_news_sdv_gaussian_100k = pd.read_csv('onehot_news_sdv_gaussian_100k.csv')\n",
    "\n",
    "# Get the columns of each DataFrame\n",
    "columns_1 = set(onehot_news_sdv_100k.columns)\n",
    "columns_2 = set(onehot_news_sdv_categorical_100k.columns)\n",
    "columns_3 = set(onehot_news_sdv_gaussian_100k.columns)\n",
    "\n",
    "# Check if all columns match\n",
    "if columns_1 == columns_2 == columns_3:\n",
    "    print(\"All columns match.\")\n",
    "else:\n",
    "    print(\"Columns do not match.\")\n",
    "    print(\"Columns in onehot_news_sdv_100k but not in onehot_news_sdv_categorical_100k:\", columns_1 - columns_2)\n",
    "    print(\"Columns in onehot_news_sdv_categorical_100k but not in onehot_news_sdv_100k:\", columns_2 - columns_1)\n",
    "    print(\"Columns in onehot_news_sdv_100k but not in onehot_news_sdv_gaussian_100k:\", columns_1 - columns_3)\n",
    "    print(\"Columns in onehot_news_sdv_gaussian_100k but not in onehot_news_sdv_100k:\", columns_3 - columns_1)\n",
    "    print(\"Columns in onehot_news_sdv_categorical_100k but not in onehot_news_sdv_gaussian_100k:\", columns_2 - columns_3)\n",
    "    print(\"Columns in onehot_news_sdv_gaussian_100k but not in onehot_news_sdv_categorical_100k:\", columns_3 - columns_2)"
   ]
  },
  {
   "cell_type": "code",
   "execution_count": 13,
   "metadata": {},
   "outputs": [
    {
     "name": "stdout",
     "output_type": "stream",
     "text": [
      "All columns match.\n"
     ]
    }
   ],
   "source": [
    "import pandas as pd\n",
    "\n",
    "# Load the CSV files\n",
    "onehot_news_sdv_100k = pd.read_csv(\"onehot_news_sdv_100k.csv\")\n",
    "onehot_news_sdv_categorical_100k = pd.read_csv('onehot_news_sdv_categorical_100k.csv')\n",
    "onehot_news_sdv_gaussian_100k = pd.read_csv('onehot_news_sdv_gaussian_100k.csv')\n",
    "\n",
    "# Standardize the column names\n",
    "onehot_news_sdv_100k.columns = onehot_news_sdv_100k.columns.str.strip()\n",
    "onehot_news_sdv_categorical_100k.columns = onehot_news_sdv_categorical_100k.columns.str.strip()\n",
    "onehot_news_sdv_gaussian_100k.columns = onehot_news_sdv_gaussian_100k.columns.str.strip()\n",
    "\n",
    "# Get the columns of each DataFrame\n",
    "columns_1 = set(onehot_news_sdv_100k.columns)\n",
    "columns_2 = set(onehot_news_sdv_categorical_100k.columns)\n",
    "columns_3 = set(onehot_news_sdv_gaussian_100k.columns)\n",
    "\n",
    "# Check if all columns match\n",
    "if columns_1 == columns_2 == columns_3:\n",
    "    print(\"All columns match.\")\n",
    "else:\n",
    "    print(\"Columns do not match.\")\n",
    "    print(\"Columns in onehot_news_sdv_100k but not in onehot_news_sdv_categorical_100k:\", columns_1 - columns_2)\n",
    "    print(\"Columns in onehot_news_sdv_categorical_100k but not in onehot_news_sdv_100k:\", columns_2 - columns_1)\n",
    "    print(\"Columns in onehot_news_sdv_100k but not in onehot_news_sdv_gaussian_100k:\", columns_1 - columns_3)\n",
    "    print(\"Columns in onehot_news_sdv_gaussian_100k but not in onehot_news_sdv_100k:\", columns_3 - columns_1)\n",
    "    print(\"Columns in onehot_news_sdv_categorical_100k but not in onehot_news_sdv_gaussian_100k:\", columns_2 - columns_3)\n",
    "    print(\"Columns in onehot_news_sdv_gaussian_100k but not in onehot_news_sdv_categorical_100k:\", columns_3 - columns_2)"
   ]
  },
  {
   "cell_type": "code",
   "execution_count": 40,
   "metadata": {},
   "outputs": [
    {
     "name": "stdout",
     "output_type": "stream",
     "text": [
      "Columns in onehot_news_sdv_gaussian_100k:\n",
      "Index(['Unnamed: 0', ' LDA_00', ' LDA_01', ' LDA_02', ' LDA_03', ' LDA_04',\n",
      "       ' abs_title_sentiment_polarity', ' abs_title_subjectivity',\n",
      "       ' average_token_length', ' avg_negative_polarity',\n",
      "       ' avg_positive_polarity', ' data_channel_is_bus',\n",
      "       ' data_channel_is_entertainment', ' data_channel_is_lifestyle',\n",
      "       ' data_channel_is_socmed', ' data_channel_is_tech',\n",
      "       ' data_channel_is_world', ' global_rate_negative_words',\n",
      "       ' global_rate_positive_words', ' global_sentiment_polarity',\n",
      "       ' global_subjectivity', ' is_weekend', ' kw_avg_avg', ' kw_avg_max',\n",
      "       ' kw_avg_min', ' kw_max_avg', ' kw_max_max', ' kw_max_min',\n",
      "       ' kw_min_avg', ' kw_min_max', ' kw_min_min', ' max_negative_polarity',\n",
      "       ' max_positive_polarity', ' min_negative_polarity',\n",
      "       ' min_positive_polarity', ' n_non_stop_unique_tokens',\n",
      "       ' n_non_stop_words', ' n_tokens_content', ' n_tokens_title',\n",
      "       ' n_unique_tokens', ' num_hrefs', ' num_imgs', ' num_keywords',\n",
      "       ' num_self_hrefs', ' num_videos', ' rate_negative_words',\n",
      "       ' rate_positive_words', ' self_reference_avg_sharess',\n",
      "       ' self_reference_max_shares', ' self_reference_min_shares',\n",
      "       ' title_sentiment_polarity', ' title_subjectivity',\n",
      "       ' weekday_is_friday', ' weekday_is_monday', ' weekday_is_saturday',\n",
      "       ' weekday_is_sunday', ' weekday_is_thursday', ' weekday_is_tuesday',\n",
      "       ' weekday_is_wednesday', ' shares'],\n",
      "      dtype='object')\n"
     ]
    }
   ],
   "source": [
    "onehot_news_sdv_gaussian_100k = pd.read_csv('onehot_news_sdv_gaussian_100k.csv')\n",
    "\n",
    "# Print the columns\n",
    "print(\"Columns in onehot_news_sdv_gaussian_100k:\")\n",
    "print(onehot_news_sdv_gaussian_100k.columns)"
   ]
  },
  {
   "cell_type": "code",
   "execution_count": 39,
   "metadata": {},
   "outputs": [],
   "source": [
    "import pandas as pd\n",
    "\n",
    "# Load the dataset\n",
    "file_path = 'onehot_news_sdv_gaussian_100k.csv'\n",
    "df = pd.read_csv(file_path)\n",
    "\n",
    "# Remove the 'Unnamed: 0' colu\n",
    "\n",
    "# Rename the 'shares' column to ' share'\n",
    "df = df.rename(columns={'shares': ' shares'})\n",
    "\n",
    "# Save the modified DataFrame back to the same file\n",
    "df.to_csv(file_path, index=False)"
   ]
  },
  {
   "cell_type": "code",
   "execution_count": null,
   "metadata": {},
   "outputs": [],
   "source": []
  },
  {
   "cell_type": "code",
   "execution_count": null,
   "metadata": {},
   "outputs": [],
   "source": []
  },
  {
   "cell_type": "code",
   "execution_count": null,
   "metadata": {},
   "outputs": [],
   "source": []
  },
  {
   "cell_type": "code",
   "execution_count": null,
   "metadata": {},
   "outputs": [],
   "source": []
  },
  {
   "cell_type": "code",
   "execution_count": null,
   "metadata": {},
   "outputs": [],
   "source": []
  },
  {
   "cell_type": "code",
   "execution_count": 3,
   "metadata": {},
   "outputs": [
    {
     "name": "stdout",
     "output_type": "stream",
     "text": [
      "Files have been corrected and saved.\n"
     ]
    }
   ],
   "source": [
    "import pandas as pd\n",
    "\n",
    "# Load the CSV files\n",
    "onehot_news_sdv_100k = pd.read_csv(\"onehot_news_sdv_100k.csv\")\n",
    "onehot_news_sdv_categorical_100k = pd.read_csv('onehot_news_sdv_categorical_100k.csv')\n",
    "onehot_news_sdv_gaussian_100k = pd.read_csv('onehot_news_sdv_gaussian_100k.csv')\n",
    "\n",
    "# Correct the column names\n",
    "onehot_news_sdv_100k.columns = onehot_news_sdv_100k.columns.str.strip()\n",
    "onehot_news_sdv_categorical_100k.columns = onehot_news_sdv_categorical_100k.columns.str.strip()\n",
    "onehot_news_sdv_gaussian_100k.columns = onehot_news_sdv_gaussian_100k.columns.str.strip()\n",
    "\n",
    "# Save the corrected DataFrames back to CSV files\n",
    "onehot_news_sdv_100k.to_csv(\"onehot_news_sdv_100k.csv\", index=False)\n",
    "onehot_news_sdv_categorical_100k.to_csv('onehot_news_sdv_categorical_100k.csv', index=False)\n",
    "onehot_news_sdv_gaussian_100k.to_csv('onehot_news_sdv_gaussian_100k.csv', index=False)\n",
    "\n",
    "print(\"Files have been corrected and saved.\")"
   ]
  },
  {
   "cell_type": "code",
   "execution_count": 5,
   "metadata": {},
   "outputs": [
    {
     "name": "stdout",
     "output_type": "stream",
     "text": [
      "[' data_channel_is_socmed', ' is_weekend', ' weekday_is_sunday', ' data_channel_is_tech', ' weekday_is_friday', ' weekday_is_saturday', ' weekday_is_monday', ' weekday_is_tuesday', ' weekday_is_wednesday', ' data_channel_is_lifestyle', ' weekday_is_thursday', ' data_channel_is_entertainment', ' data_channel_is_world', ' data_channel_is_bus']\n"
     ]
    }
   ],
   "source": [
    "# List of numerical columns\n",
    "numerical_columns = [\n",
    "  ' n_tokens_title', ' n_tokens_content', ' n_unique_tokens', ' n_non_stop_words', ' n_non_stop_unique_tokens',\n",
    "  ' num_hrefs', ' num_self_hrefs', ' num_imgs', ' num_videos', ' average_token_length', ' num_keywords',\n",
    "  ' kw_min_min', ' kw_max_min', ' kw_avg_min', ' kw_min_max', ' kw_max_max', ' kw_avg_max', ' kw_min_avg',\n",
    "  ' kw_max_avg', ' kw_avg_avg', ' self_reference_min_shares', ' self_reference_max_shares', ' self_reference_avg_sharess',\n",
    "  ' LDA_00', ' LDA_01', ' LDA_02', ' LDA_03', ' LDA_04', ' global_subjectivity', ' global_sentiment_polarity',\n",
    "  ' global_rate_positive_words', ' global_rate_negative_words', ' rate_positive_words', ' rate_negative_words',\n",
    "  ' avg_positive_polarity', ' min_positive_polarity', ' max_positive_polarity', ' avg_negative_polarity',\n",
    "  ' min_negative_polarity', ' max_negative_polarity', ' title_subjectivity', ' title_sentiment_polarity',\n",
    "  ' abs_title_subjectivity', ' abs_title_sentiment_polarity'\n",
    "]\n",
    "\n",
    "# List of all columns\n",
    "all_columns = [\n",
    "  ' n_tokens_title', ' n_tokens_content', ' n_unique_tokens', ' n_non_stop_words', ' n_non_stop_unique_tokens', \n",
    "  ' num_hrefs', ' num_self_hrefs', ' num_imgs', ' num_videos', ' average_token_length', ' num_keywords', \n",
    "  ' data_channel_is_lifestyle', ' data_channel_is_entertainment', ' data_channel_is_bus', ' data_channel_is_socmed', \n",
    "  ' data_channel_is_tech', ' data_channel_is_world', ' kw_min_min', ' kw_max_min', ' kw_avg_min', ' kw_min_max', \n",
    "  ' kw_max_max', ' kw_avg_max', ' kw_min_avg', ' kw_max_avg', ' kw_avg_avg', ' self_reference_min_shares', \n",
    "  ' self_reference_max_shares', ' self_reference_avg_sharess', ' weekday_is_monday', ' weekday_is_tuesday', \n",
    "  ' weekday_is_wednesday', ' weekday_is_thursday', ' weekday_is_friday', ' weekday_is_saturday', ' weekday_is_sunday', \n",
    "  ' is_weekend', ' LDA_00', ' LDA_01', ' LDA_02', ' LDA_03', ' LDA_04', ' global_subjectivity', \n",
    "  ' global_sentiment_polarity', ' global_rate_positive_words', ' global_rate_negative_words', ' rate_positive_words', \n",
    "  ' rate_negative_words', ' avg_positive_polarity', ' min_positive_polarity', ' max_positive_polarity', \n",
    "  ' avg_negative_polarity', ' min_negative_polarity', ' max_negative_polarity', ' title_subjectivity', \n",
    "  ' title_sentiment_polarity', ' abs_title_subjectivity', ' abs_title_sentiment_polarity'\n",
    "]\n",
    "\n",
    "# Convert lists to sets for set operations\n",
    "numerical_set = set(numerical_columns)\n",
    "all_set = set(all_columns)\n",
    "\n",
    "# Subtract numerical columns from all columns to get categorical columns\n",
    "categorical_columns = list(all_set - numerical_set)\n",
    "\n",
    "# Print the list of categorical columns\n",
    "print(categorical_columns)"
   ]
  },
  {
   "cell_type": "code",
   "execution_count": 11,
   "metadata": {},
   "outputs": [
    {
     "name": "stdout",
     "output_type": "stream",
     "text": [
      "KeyError: \"[' n_tokens_title', ' n_tokens_content', ' n_unique_tokens', ' n_non_stop_words', ' n_non_stop_unique_tokens', ' num_hrefs', ' num_self_hrefs', ' num_imgs', ' num_videos', ' average_token_length', ' num_keywords', ' data_channel_is_lifestyle', ' data_channel_is_entertainment', ' data_channel_is_bus', ' data_channel_is_socmed', ' data_channel_is_tech', ' data_channel_is_world', ' kw_min_min', ' kw_max_min', ' kw_avg_min', ' kw_min_max', ' kw_max_max', ' kw_avg_max', ' kw_min_avg', ' kw_max_avg', ' kw_avg_avg', ' self_reference_min_shares', ' self_reference_max_shares', ' self_reference_avg_sharess', ' weekday_is_monday', ' weekday_is_tuesday', ' weekday_is_wednesday', ' weekday_is_thursday', ' weekday_is_friday', ' weekday_is_saturday', ' weekday_is_sunday', ' is_weekend', ' LDA_00', ' LDA_01', ' LDA_02', ' LDA_03', ' LDA_04', ' global_subjectivity', ' global_sentiment_polarity', ' global_rate_positive_words', ' global_rate_negative_words', ' rate_positive_words', ' rate_negative_words', ' avg_positive_polarity', ' min_positive_polarity', ' max_positive_polarity', ' avg_negative_polarity', ' min_negative_polarity', ' max_negative_polarity', ' title_subjectivity', ' title_sentiment_polarity', ' abs_title_subjectivity', ' abs_title_sentiment_polarity'] not in index\"\n",
      "Columns in onehot_news_sdv_100k: Index(['Unnamed: 0', 'n_tokens_title', 'n_tokens_content', 'n_unique_tokens',\n",
      "       'n_non_stop_words', 'n_non_stop_unique_tokens', 'num_hrefs',\n",
      "       'num_self_hrefs', 'num_imgs', 'num_videos', 'average_token_length',\n",
      "       'num_keywords', 'data_channel_is_lifestyle',\n",
      "       'data_channel_is_entertainment', 'data_channel_is_bus',\n",
      "       'data_channel_is_socmed', 'data_channel_is_tech',\n",
      "       'data_channel_is_world', 'kw_min_min', 'kw_max_min', 'kw_avg_min',\n",
      "       'kw_min_max', 'kw_max_max', 'kw_avg_max', 'kw_min_avg', 'kw_max_avg',\n",
      "       'kw_avg_avg', 'self_reference_min_shares', 'self_reference_max_shares',\n",
      "       'self_reference_avg_sharess', 'weekday_is_monday', 'weekday_is_tuesday',\n",
      "       'weekday_is_wednesday', 'weekday_is_thursday', 'weekday_is_friday',\n",
      "       'weekday_is_saturday', 'weekday_is_sunday', 'is_weekend', 'LDA_00',\n",
      "       'LDA_01', 'LDA_02', 'LDA_03', 'LDA_04', 'global_subjectivity',\n",
      "       'global_sentiment_polarity', 'global_rate_positive_words',\n",
      "       'global_rate_negative_words', 'rate_positive_words',\n",
      "       'rate_negative_words', 'avg_positive_polarity', 'min_positive_polarity',\n",
      "       'max_positive_polarity', 'avg_negative_polarity',\n",
      "       'min_negative_polarity', 'max_negative_polarity', 'title_subjectivity',\n",
      "       'title_sentiment_polarity', 'abs_title_subjectivity',\n",
      "       'abs_title_sentiment_polarity', ' shares'],\n",
      "      dtype='object')\n",
      "Columns in onehot_news_sdv_categorical_100k: Index(['Unnamed: 0', 'weekday_is_tuesday', 'rate_negative_words',\n",
      "       'weekday_is_sunday', 'data_channel_is_lifestyle',\n",
      "       'weekday_is_wednesday', 'data_channel_is_bus',\n",
      "       'n_non_stop_unique_tokens', 'n_unique_tokens', 'kw_max_min',\n",
      "       'kw_max_avg', 'global_sentiment_polarity', 'weekday_is_monday',\n",
      "       'avg_positive_polarity', 'n_tokens_title', 'average_token_length',\n",
      "       'num_videos', 'data_channel_is_world', 'self_reference_avg_sharess',\n",
      "       'rate_positive_words', 'avg_negative_polarity',\n",
      "       'global_rate_negative_words', 'n_tokens_content',\n",
      "       'max_negative_polarity', 'data_channel_is_tech', 'num_imgs',\n",
      "       'title_sentiment_polarity', 'abs_title_subjectivity',\n",
      "       'abs_title_sentiment_polarity', 'weekday_is_saturday', 'is_weekend',\n",
      "       'title_subjectivity', 'kw_avg_avg', 'global_rate_positive_words',\n",
      "       'min_negative_polarity', 'data_channel_is_entertainment', 'LDA_01',\n",
      "       'num_keywords', 'num_self_hrefs', 'self_reference_max_shares',\n",
      "       'global_subjectivity', 'kw_min_min', 'n_non_stop_words', 'kw_min_max',\n",
      "       'weekday_is_thursday', 'LDA_00', 'kw_max_max', 'num_hrefs',\n",
      "       'kw_avg_min', 'min_positive_polarity', 'kw_min_avg', 'LDA_03',\n",
      "       'kw_avg_max', 'data_channel_is_socmed', 'self_reference_min_shares',\n",
      "       'LDA_02', 'weekday_is_friday', 'LDA_04', 'max_positive_polarity',\n",
      "       ' shares'],\n",
      "      dtype='object')\n",
      "Columns in onehot_news_sdv_gaussian_100k: Index(['Unnamed: 0', 'LDA_00', 'LDA_01', 'LDA_02', 'LDA_03', 'LDA_04',\n",
      "       'abs_title_sentiment_polarity', 'abs_title_subjectivity',\n",
      "       'average_token_length', 'avg_negative_polarity',\n",
      "       'avg_positive_polarity', 'data_channel_is_bus',\n",
      "       'data_channel_is_entertainment', 'data_channel_is_lifestyle',\n",
      "       'data_channel_is_socmed', 'data_channel_is_tech',\n",
      "       'data_channel_is_world', 'global_rate_negative_words',\n",
      "       'global_rate_positive_words', 'global_sentiment_polarity',\n",
      "       'global_subjectivity', 'is_weekend', 'kw_avg_avg', 'kw_avg_max',\n",
      "       'kw_avg_min', 'kw_max_avg', 'kw_max_max', 'kw_max_min', 'kw_min_avg',\n",
      "       'kw_min_max', 'kw_min_min', 'max_negative_polarity',\n",
      "       'max_positive_polarity', 'min_negative_polarity',\n",
      "       'min_positive_polarity', 'n_non_stop_unique_tokens', 'n_non_stop_words',\n",
      "       'n_tokens_content', 'n_tokens_title', 'n_unique_tokens', 'num_hrefs',\n",
      "       'num_imgs', 'num_keywords', 'num_self_hrefs', 'num_videos',\n",
      "       'rate_negative_words', 'rate_positive_words',\n",
      "       'self_reference_avg_sharess', 'self_reference_max_shares',\n",
      "       'self_reference_min_shares', 'title_sentiment_polarity',\n",
      "       'title_subjectivity', 'weekday_is_friday', 'weekday_is_monday',\n",
      "       'weekday_is_saturday', 'weekday_is_sunday', 'weekday_is_thursday',\n",
      "       'weekday_is_tuesday', 'weekday_is_wednesday', ' shares'],\n",
      "      dtype='object')\n",
      "Columns have been standardized and reordered.\n"
     ]
    }
   ],
   "source": [
    "import pandas as pd\n",
    "\n",
    "# Load the CSV files\n",
    "onehot_news_sdv_100k = pd.read_csv(\"onehot_news_sdv_100k.csv\")\n",
    "onehot_news_sdv_categorical_100k = pd.read_csv('onehot_news_sdv_categorical_100k.csv')\n",
    "onehot_news_sdv_gaussian_100k = pd.read_csv('onehot_news_sdv_gaussian_100k.csv')\n",
    "\n",
    "# Standardize the column names by stripping any leading or trailing spaces\n",
    "onehot_news_sdv_100k.columns = onehot_news_sdv_100k.columns.str.strip()\n",
    "onehot_news_sdv_categorical_100k.columns = onehot_news_sdv_categorical_100k.columns.str.strip()\n",
    "onehot_news_sdv_gaussian_100k.columns = onehot_news_sdv_gaussian_100k.columns.str.strip()\n",
    "\n",
    "# Define the correct column order with a space after the initial quote for specified columns\n",
    "correct_columns = [\n",
    "  ' n_tokens_title', ' n_tokens_content', ' n_unique_tokens', ' n_non_stop_words', \n",
    "  ' n_non_stop_unique_tokens', ' num_hrefs', ' num_self_hrefs', ' num_imgs', \n",
    "  ' num_videos', ' average_token_length', ' num_keywords', ' data_channel_is_lifestyle', \n",
    "  ' data_channel_is_entertainment', ' data_channel_is_bus', ' data_channel_is_socmed', \n",
    "  ' data_channel_is_tech', ' data_channel_is_world', ' kw_min_min', ' kw_max_min', \n",
    "  ' kw_avg_min', ' kw_min_max', ' kw_max_max', ' kw_avg_max', ' kw_min_avg', ' kw_max_avg', \n",
    "  ' kw_avg_avg', ' self_reference_min_shares', ' self_reference_max_shares', \n",
    "  ' self_reference_avg_sharess', ' weekday_is_monday', ' weekday_is_tuesday', \n",
    "  ' weekday_is_wednesday', ' weekday_is_thursday', ' weekday_is_friday', \n",
    "  ' weekday_is_saturday', ' weekday_is_sunday', ' is_weekend', ' LDA_00', ' LDA_01', \n",
    "  ' LDA_02', ' LDA_03', ' LDA_04', ' global_subjectivity', ' global_sentiment_polarity', \n",
    "  ' global_rate_positive_words', ' global_rate_negative_words', ' rate_positive_words', \n",
    "  ' rate_negative_words', ' avg_positive_polarity', ' min_positive_polarity', \n",
    "  ' max_positive_polarity', ' avg_negative_polarity', ' min_negative_polarity', \n",
    "  ' max_negative_polarity', ' title_subjectivity', ' title_sentiment_polarity', \n",
    "  ' abs_title_subjectivity', ' abs_title_sentiment_polarity', ' shares'\n",
    "]\n",
    "\n",
    "# Ensure the 'shares' column is present and correctly named\n",
    "onehot_news_sdv_100k.rename(columns={'shares': ' shares', ' shares': ' shares'}, inplace=True)\n",
    "onehot_news_sdv_categorical_100k.rename(columns={'shares': ' shares', ' shares': ' shares'}, inplace=True)\n",
    "onehot_news_sdv_gaussian_100k.rename(columns={'shares': ' shares', ' shares': ' shares'}, inplace=True)\n",
    "\n",
    "# Reorder the columns\n",
    "try:\n",
    "  onehot_news_sdv_100k = onehot_news_sdv_100k[correct_columns]\n",
    "  onehot_news_sdv_categorical_100k = onehot_news_sdv_categorical_100k[correct_columns]\n",
    "  onehot_news_sdv_gaussian_100k = onehot_news_sdv_gaussian_100k[correct_columns]\n",
    "except KeyError as e:\n",
    "  print(\"KeyError:\", e)\n",
    "  print(\"Columns in onehot_news_sdv_100k:\", onehot_news_sdv_100k.columns)\n",
    "  print(\"Columns in onehot_news_sdv_categorical_100k:\", onehot_news_sdv_categorical_100k.columns)\n",
    "  print(\"Columns in onehot_news_sdv_gaussian_100k:\", onehot_news_sdv_gaussian_100k.columns)\n",
    "\n",
    "# Optionally, save the cleaned DataFrames back to CSV files\n",
    "onehot_news_sdv_100k.to_csv(\"cleaned_onehot_news_sdv_100k.csv\", index=False)\n",
    "onehot_news_sdv_categorical_100k.to_csv(\"cleaned_onehot_news_sdv_categorical_100k.csv\", index=False)\n",
    "onehot_news_sdv_gaussian_100k.to_csv(\"cleaned_onehot_news_sdv_gaussian_100k.csv\", index=False)\n",
    "\n",
    "print(\"Columns have been standardized and reordered.\")"
   ]
  },
  {
   "cell_type": "code",
   "execution_count": null,
   "metadata": {},
   "outputs": [],
   "source": []
  }
 ],
 "metadata": {
  "kernelspec": {
   "display_name": "Python 3",
   "language": "python",
   "name": "python3"
  },
  "language_info": {
   "codemirror_mode": {
    "name": "ipython",
    "version": 3
   },
   "file_extension": ".py",
   "mimetype": "text/x-python",
   "name": "python",
   "nbconvert_exporter": "python",
   "pygments_lexer": "ipython3",
   "version": "3.9.0"
  }
 },
 "nbformat": 4,
 "nbformat_minor": 2
}
