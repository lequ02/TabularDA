{
 "cells": [
  {
   "cell_type": "code",
   "execution_count": 21,
   "metadata": {},
   "outputs": [],
   "source": [
    "import pandas as pd\n",
    "import numpy as np\n",
    "\n",
    "import matplotlib.pyplot as plt\n",
    "\n",
    "\n",
    "df = pd.read_csv('D:\\SummerResearch\\data\\\\news\\\\news_test.csv')\n",
    "\n",
    "# drop the target column\\\n",
    "df.drop(columns=[' shares'], inplace=True)"
   ]
  },
  {
   "cell_type": "code",
   "execution_count": 22,
   "metadata": {},
   "outputs": [
    {
     "name": "stdout",
     "output_type": "stream",
     "text": [
      " data_channel_is_lifestyle\n",
      " data_channel_is_entertainment\n",
      " data_channel_is_bus\n",
      " data_channel_is_socmed\n",
      " data_channel_is_tech\n",
      " data_channel_is_world\n",
      " weekday_is_monday\n",
      " weekday_is_tuesday\n",
      " weekday_is_wednesday\n",
      " weekday_is_thursday\n",
      " weekday_is_friday\n",
      " weekday_is_saturday\n",
      " weekday_is_sunday\n",
      " is_weekend\n"
     ]
    }
   ],
   "source": [
    "# print all columns names that are categorical\n",
    "# all the categorical columns are one-hot encoded so any column with less than 3 unique values is categorical\n",
    "cat_cols = []\n",
    "for col in df.columns:\n",
    "    if df[col].nunique() < 3:\n",
    "        cat_cols.append(col)\n",
    "        print(col)\n",
    "\n",
    "# print(cat_cols)"
   ]
  },
  {
   "cell_type": "code",
   "execution_count": 23,
   "metadata": {},
   "outputs": [
    {
     "name": "stdout",
     "output_type": "stream",
     "text": [
      "Index([' LDA_00', ' LDA_01', ' LDA_02', ' LDA_03', ' LDA_04',\n",
      "       ' abs_title_sentiment_polarity', ' abs_title_subjectivity',\n",
      "       ' average_token_length', ' avg_negative_polarity',\n",
      "       ' avg_positive_polarity', ' global_rate_negative_words',\n",
      "       ' global_rate_positive_words', ' global_sentiment_polarity',\n",
      "       ' global_subjectivity', ' kw_avg_avg', ' kw_avg_max', ' kw_avg_min',\n",
      "       ' kw_max_avg', ' kw_max_max', ' kw_max_min', ' kw_min_avg',\n",
      "       ' kw_min_max', ' kw_min_min', ' max_negative_polarity',\n",
      "       ' max_positive_polarity', ' min_negative_polarity',\n",
      "       ' min_positive_polarity', ' n_non_stop_unique_tokens',\n",
      "       ' n_non_stop_words', ' n_tokens_content', ' n_tokens_title',\n",
      "       ' n_unique_tokens', ' num_hrefs', ' num_imgs', ' num_keywords',\n",
      "       ' num_self_hrefs', ' num_videos', ' rate_negative_words',\n",
      "       ' rate_positive_words', ' self_reference_avg_sharess',\n",
      "       ' self_reference_max_shares', ' self_reference_min_shares',\n",
      "       ' title_sentiment_polarity', ' title_subjectivity'],\n",
      "      dtype='object')\n"
     ]
    }
   ],
   "source": [
    "numeric_cols = df.columns.difference(cat_cols)\n",
    "\n",
    "print(numeric_cols)"
   ]
  },
  {
   "cell_type": "code",
   "execution_count": 25,
   "metadata": {},
   "outputs": [
    {
     "name": "stdout",
     "output_type": "stream",
     "text": [
      "39644\n",
      "0\n"
     ]
    }
   ],
   "source": [
    "id = pd.Index([i for i in range(0, 39644)])\n",
    "id_empt = pd.Series([])\n",
    "print(len(id))\n",
    "print(len(id_empt))"
   ]
  }
 ],
 "metadata": {
  "kernelspec": {
   "display_name": "summer_research",
   "language": "python",
   "name": "python3"
  },
  "language_info": {
   "codemirror_mode": {
    "name": "ipython",
    "version": 3
   },
   "file_extension": ".py",
   "mimetype": "text/x-python",
   "name": "python",
   "nbconvert_exporter": "python",
   "pygments_lexer": "ipython3",
   "version": "3.11.3"
  }
 },
 "nbformat": 4,
 "nbformat_minor": 2
}
