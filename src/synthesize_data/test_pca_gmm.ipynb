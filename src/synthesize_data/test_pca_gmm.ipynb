{
 "cells": [
  {
   "cell_type": "code",
   "execution_count": 2,
   "metadata": {},
   "outputs": [
    {
     "name": "stdout",
     "output_type": "stream",
     "text": [
      "(38095, 109)\n",
      "(100000, 109)\n"
     ]
    }
   ],
   "source": [
    "import pandas as pd\n",
    "import numpy as np\n",
    "\n",
    "num_cols_=['age', 'fnlwgt', 'education-num', 'capital-gain', 'capital-loss', 'hours-per-week']\n",
    "\n",
    "\n",
    "\n",
    "df_ori = pd.read_csv(\"D:\\SummerResearch\\data\\\\adult\\onehot_adult_train.csv\")\n",
    "df_syn = pd.read_csv(\"D:\\SummerResearch\\data\\\\adult\\onehot_adult_sdv_gaussian_100k.csv\")\n",
    "\n",
    "X_ori = df_ori.drop(columns=['income'])\n",
    "X_syn = df_syn.drop(columns=['income'])\n",
    "y_ori = df_ori['income']\n",
    "\n",
    "print(df_ori.shape)\n",
    "print(df_syn.shape)\n",
    "# df_ori = df_ori.drop(columns=['Unnamed: 0'])\n",
    "# df_syn = df_syn.drop(columns=['Unnamed: 0'])"
   ]
  },
  {
   "cell_type": "code",
   "execution_count": 3,
   "metadata": {},
   "outputs": [
    {
     "name": "stdout",
     "output_type": "stream",
     "text": [
      "Normalizing data...\n",
      "\n",
      "\n",
      "Before PCA: NaN values in data:  age                               0\n",
      "fnlwgt                            0\n",
      "capital-loss                      0\n",
      "hours-per-week                    0\n",
      "education-num                     0\n",
      "                                 ..\n",
      "native-country_Thailand           0\n",
      "native-country_Trinadad&Tobago    0\n",
      "native-country_United-States      0\n",
      "native-country_Vietnam            0\n",
      "native-country_Yugoslavia         0\n",
      "Length: 108, dtype: int64\n",
      "Performing PCA...\n",
      "Warning: Target column income not found in the dataset.\n",
      "Assumes the dfs only contain numerical columns.\n",
      "Explained variance ratio: [0.35583463 0.30387462 0.15151999 0.08577014 0.05218839 0.05081223]\n",
      "Cumulative explained variance: [0.35583463 0.65970925 0.81122924 0.89699938 0.94918777 1.        ]\n",
      "Number of components: 6\n",
      "\n",
      "\n",
      " pre df\n",
      "<class 'numpy.ndarray'>\n",
      "[[ 0.01284971  0.16815559 -0.14652938 -0.02174271 -0.00983636  0.01476393]\n",
      " [ 0.20785906 -0.18269455  0.01689317  0.35664398  0.03393765 -0.00105004]\n",
      " [ 0.16168925 -0.13503996 -0.05780776 -0.01922565 -0.03250379 -0.02110221]\n",
      " ...\n",
      " [ 0.31001924 -0.07435126 -0.01495251  0.40246886  0.03869305  0.01173747]\n",
      " [ 0.00781067  0.0578436  -0.02051574 -0.02157295 -0.0580398  -0.04561533]\n",
      " [ 0.05516887 -0.02436565 -0.01158676 -0.02045636 -0.0420703  -0.02903563]]\n",
      "\n",
      "\n",
      " post df\n",
      "<class 'pandas.core.frame.DataFrame'>\n",
      "            PC1       PC2       PC3       PC4       PC5       PC6\n",
      "0      0.012850  0.168156 -0.146529 -0.021743 -0.009836  0.014764\n",
      "1      0.207859 -0.182695  0.016893  0.356644  0.033938 -0.001050\n",
      "2      0.161689 -0.135040 -0.057808 -0.019226 -0.032504 -0.021102\n",
      "3      0.380343 -0.325340 -0.000063 -0.022909  0.002910  0.027004\n",
      "4      0.160524  0.210885 -0.091581 -0.032668 -0.053344 -0.017897\n",
      "...         ...       ...       ...       ...       ...       ...\n",
      "38090  0.134739  0.156136 -0.056775 -0.030673 -0.081875 -0.057133\n",
      "38091  0.273152  0.068161 -0.268460 -0.025586  0.006904  0.040636\n",
      "38092  0.310019 -0.074351 -0.014953  0.402469  0.038693  0.011737\n",
      "38093  0.007811  0.057844 -0.020516 -0.021573 -0.058040 -0.045615\n",
      "38094  0.055169 -0.024366 -0.011587 -0.020456 -0.042070 -0.029036\n",
      "\n",
      "[38095 rows x 6 columns]\n",
      "After PCA: NaN values in data:  age                               0\n",
      "fnlwgt                            0\n",
      "capital-loss                      0\n",
      "hours-per-week                    0\n",
      "education-num                     0\n",
      "                                 ..\n",
      "native-country_Thailand           0\n",
      "native-country_Trinadad&Tobago    0\n",
      "native-country_United-States      0\n",
      "native-country_Vietnam            0\n",
      "native-country_Yugoslavia         0\n",
      "Length: 108, dtype: int64\n",
      "Fitting GMM...\n",
      "Train Accuracy:  0.8345452159075994\n",
      "Train F1 {'weighted': 0.8321556339645861, 'macro': 0.7683326637288124, 'micro': 0.8345452159075994}\n"
     ]
    }
   ],
   "source": [
    "from pca_gmm import PCA_GMM\n",
    "\n",
    "model = PCA_GMM(X_original=X_ori, y_original=y_ori, X_synthesized=X_syn,\n",
    "                 numerical_cols=num_cols_, target_name='income',\n",
    "                 pca_n_components=0.99, gmm_n_components=10, verbose=True,\n",
    "                 filename='draft.csv')\n",
    "\n",
    "(train_acc, f1), synthesized_df= model.fit()"
   ]
  },
  {
   "cell_type": "markdown",
   "metadata": {},
   "source": [
    "pca_n_components=0.99, gmm_n_components=5\n",
    "\n",
    "Train Accuracy:  0.8345452159075994\n",
    "\n",
    "Train F1 {'weighted': 0.8321556339645861, 'macro': 0.7683326637288124, 'micro': 0.8345452159075994}"
   ]
  },
  {
   "cell_type": "code",
   "execution_count": 7,
   "metadata": {},
   "outputs": [
    {
     "name": "stdout",
     "output_type": "stream",
     "text": [
      "   age  capital-gain  capital-loss  education-num  education_10th  \\\n",
      "0   26             6             1              7             0.0   \n",
      "1   45             1             0              1             0.0   \n",
      "2   36             0             1             14             0.0   \n",
      "3   61             0             0             14             0.0   \n",
      "4   43             5             1             10             0.0   \n",
      "\n",
      "   education_11th  education_12th  education_1st-4th  education_5th-6th  \\\n",
      "0             1.0             0.0                0.0                0.0   \n",
      "1             0.0             0.0                1.0                0.0   \n",
      "2             0.0             0.0                0.0                0.0   \n",
      "3             0.0             0.0                0.0                0.0   \n",
      "4             0.0             0.0                0.0                0.0   \n",
      "\n",
      "   education_7th-8th  ...  workclass_?  workclass_Federal-gov  \\\n",
      "0                0.0  ...          0.0                    0.0   \n",
      "1                0.0  ...          0.0                    0.0   \n",
      "2                0.0  ...          0.0                    0.0   \n",
      "3                0.0  ...          0.0                    0.0   \n",
      "4                0.0  ...          0.0                    0.0   \n",
      "\n",
      "   workclass_Local-gov  workclass_Never-worked  workclass_Private  \\\n",
      "0                  0.0                     0.0                1.0   \n",
      "1                  1.0                     0.0                0.0   \n",
      "2                  0.0                     0.0                1.0   \n",
      "3                  0.0                     0.0                0.0   \n",
      "4                  0.0                     0.0                1.0   \n",
      "\n",
      "   workclass_Self-emp-inc  workclass_Self-emp-not-inc  workclass_State-gov  \\\n",
      "0                     0.0                         0.0                  0.0   \n",
      "1                     0.0                         0.0                  0.0   \n",
      "2                     0.0                         0.0                  0.0   \n",
      "3                     0.0                         0.0                  1.0   \n",
      "4                     0.0                         0.0                  0.0   \n",
      "\n",
      "   workclass_Without-pay  income  \n",
      "0                    0.0       1  \n",
      "1                    0.0       1  \n",
      "2                    0.0       0  \n",
      "3                    0.0       1  \n",
      "4                    0.0       1  \n",
      "\n",
      "[5 rows x 109 columns]\n"
     ]
    },
    {
     "data": {
      "text/plain": [
       "array([   1,    0,    2, 1881, 1839, 2171, 2125, 2085, 1853, 1801, 2207,\n",
       "       2192, 2030, 1899, 1862, 2078, 1870, 2053, 1846, 1866, 1884, 1972,\n",
       "       1821, 1786, 1799, 1837, 1817, 1857, 1887, 1874, 1852, 1849, 1918,\n",
       "       1851, 2105, 2228, 1893, 2088, 1989, 1825, 1822, 1769, 2124, 1886,\n",
       "       1871, 1826, 2160, 1803, 1831, 1812, 1894, 1875, 2002, 1844, 1867,\n",
       "       1835, 1790, 1815, 1898, 1904, 1889, 1777, 2126, 2256, 1832, 1792,\n",
       "       1768, 1914, 1802, 2164, 1880, 1872, 1829, 1854, 1806, 1883, 2075,\n",
       "       1863, 1855, 2042, 1919, 1861, 1911, 2150, 2255, 1824, 1905, 2122,\n",
       "       1909, 2176, 2136, 1860, 1873, 1760, 1828, 2279, 1869, 1838, 1888,\n",
       "       2219, 2098, 1937, 1841, 2249, 1810, 2096, 1940, 1807, 1811, 1850,\n",
       "       1895, 1990, 1856, 1879, 2063, 2191, 1902, 1827, 2109, 2204, 2012,\n",
       "       2086, 1865, 2054, 1773, 1805, 2129, 1916, 1834, 2068, 2116, 1930,\n",
       "       1912, 2170, 2239, 1878, 1836, 1840, 2112, 1842, 2058, 1814, 2177,\n",
       "       1764, 1936, 2034, 1819, 1917, 1767, 1830, 1859, 2070, 1823, 1833,\n",
       "       1795, 1809, 2227, 2113, 1943, 1758, 1779, 1813, 2067, 2074, 2187,\n",
       "       2162, 1782, 1868, 1843, 1948, 1845, 2090, 2216, 2089, 1897, 2121,\n",
       "       2224, 1796, 1983, 2076, 2145, 2051, 2127, 2222, 1922, 1998, 1921,\n",
       "       1935, 2059, 1787, 1793, 1816, 1818, 1808, 1847, 1924, 1791, 1891,\n",
       "       1970, 1800, 2035, 1906, 2196, 2143, 2280, 2061, 2165, 1907, 1901,\n",
       "       2199, 2151, 2210, 2173, 1920, 2167, 2087, 1885, 2197, 2169, 1910,\n",
       "       2149, 1858, 2102, 1876, 1892, 2142, 1757, 1788, 1942, 1900, 1848,\n",
       "       1959, 2071, 1794, 1973, 2271, 2147, 2120, 2220, 2131, 2308, 2235,\n",
       "       2111, 1798, 2284, 1774, 2062, 2045, 2038, 1804, 2084, 1985, 2066,\n",
       "       2156, 2226, 2092, 2080, 1877, 1761, 2198, 2016, 1929, 1908, 2115,\n",
       "       2132, 2128, 1762, 1864, 2023, 2194, 2240, 2106, 2141, 1890, 2139,\n",
       "       2024, 1785, 2028, 2130, 2195, 1981, 2101, 2010, 1820, 2140, 2114,\n",
       "       2037, 2004, 2148, 1913, 2168, 2138, 2073, 2104, 1926, 2123, 2234,\n",
       "       2039, 2072, 2110, 2230, 2082, 2052, 1789, 2153, 2185, 2097, 2209,\n",
       "       2161, 2006, 1896, 1882, 2077, 1748, 1956, 2172, 2046, 2225, 1755,\n",
       "       1923, 2064, 1781, 2022, 2189, 2057, 1759, 1964, 1772, 2050, 2188,\n",
       "       1947, 2119, 2206, 2248, 2183, 2146, 1778, 2011, 2019, 1927, 2107,\n",
       "       2245, 2184, 1946, 2202, 1754, 2060, 2065, 2047, 1933, 2282, 1975,\n",
       "       2144, 1954, 1763, 2174, 2055, 2015, 1949, 2100, 2091, 2157, 2041,\n",
       "       1928, 2031, 1765, 1743, 2212, 2247, 2093, 2095, 1742, 2178, 2166,\n",
       "       1751, 2242, 2135, 1783, 2205, 1784, 2094, 1976, 2213, 1723, 2155,\n",
       "       1992, 2214, 1961, 2008, 2021, 2211, 1734, 2266, 1766, 2044, 2182,\n",
       "       1971, 2099, 1753, 2208, 2179, 2007, 1934, 2261, 2033, 2259, 1776,\n",
       "       1968, 2231, 1941, 2036, 2274, 2108], dtype=int64)"
      ]
     },
     "execution_count": 7,
     "metadata": {},
     "output_type": "execute_result"
    }
   ],
   "source": [
    "print(synthesized_df.head())\n",
    "synthesized_df['capital-loss'].unique()"
   ]
  },
  {
   "cell_type": "code",
   "execution_count": 4,
   "metadata": {},
   "outputs": [],
   "source": [
    "cvt = pd.read_csv(\"D:\\SummerResearch\\data\\covertype\\covertype_train.csv\")"
   ]
  },
  {
   "cell_type": "code",
   "execution_count": 5,
   "metadata": {},
   "outputs": [
    {
     "data": {
      "text/plain": [
       "Index(['Elevation', 'Aspect', 'Slope', 'Horizontal_Distance_To_Hydrology',\n",
       "       'Vertical_Distance_To_Hydrology', 'Horizontal_Distance_To_Roadways',\n",
       "       'Hillshade_9am', 'Hillshade_Noon', 'Hillshade_3pm',\n",
       "       'Horizontal_Distance_To_Fire_Points', 'Wilderness_Area1', 'Soil_Type1',\n",
       "       'Soil_Type2', 'Soil_Type3', 'Soil_Type4', 'Soil_Type5', 'Soil_Type6',\n",
       "       'Soil_Type7', 'Soil_Type8', 'Soil_Type9', 'Soil_Type10', 'Soil_Type11',\n",
       "       'Soil_Type12', 'Soil_Type13', 'Soil_Type14', 'Soil_Type15',\n",
       "       'Soil_Type16', 'Soil_Type17', 'Soil_Type18', 'Soil_Type19',\n",
       "       'Soil_Type20', 'Soil_Type21', 'Soil_Type22', 'Soil_Type23',\n",
       "       'Soil_Type24', 'Soil_Type25', 'Soil_Type26', 'Soil_Type27',\n",
       "       'Soil_Type28', 'Soil_Type29', 'Soil_Type30', 'Soil_Type31',\n",
       "       'Soil_Type32', 'Soil_Type33', 'Soil_Type34', 'Soil_Type35',\n",
       "       'Soil_Type36', 'Soil_Type37', 'Soil_Type38', 'Soil_Type39',\n",
       "       'Soil_Type40', 'Wilderness_Area2', 'Wilderness_Area3',\n",
       "       'Wilderness_Area4', 'Cover_Type'],\n",
       "      dtype='object')"
      ]
     },
     "execution_count": 5,
     "metadata": {},
     "output_type": "execute_result"
    }
   ],
   "source": [
    "cvt.columns"
   ]
  }
 ],
 "metadata": {
  "kernelspec": {
   "display_name": "summer_research",
   "language": "python",
   "name": "python3"
  },
  "language_info": {
   "codemirror_mode": {
    "name": "ipython",
    "version": 3
   },
   "file_extension": ".py",
   "mimetype": "text/x-python",
   "name": "python",
   "nbconvert_exporter": "python",
   "pygments_lexer": "ipython3",
   "version": "3.11.3"
  }
 },
 "nbformat": 4,
 "nbformat_minor": 2
}
